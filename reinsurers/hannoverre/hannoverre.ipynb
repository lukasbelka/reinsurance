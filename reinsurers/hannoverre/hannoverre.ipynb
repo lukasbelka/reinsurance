{
 "cells": [
  {
   "cell_type": "markdown",
   "metadata": {},
   "source": [
    "# This notebook serves for cleaning and transforming hannover re data\n",
    "\n",
    "Original files are downloaded and stored in downloads.  \n",
    "A copy of the file that should be processed has to be saved in download_copies"
   ]
  },
  {
   "cell_type": "code",
   "execution_count": 55,
   "metadata": {},
   "outputs": [],
   "source": [
    "import pandas as pd\n",
    "import re\n",
    "\n",
    "# Define directories and paths\n",
    "company = \"hannoverre\"\n",
    "\n",
    "base_dir = \"reinsurers\"\n",
    "download_dir = \"downloads\"\n",
    "files_dir = \"files\"\n",
    "sheets_dir = \"sheets\"\n",
    "\n",
    "# Define file that should be processed\n",
    "filename = \"financialsupplement_e_1Q2023.xlsx\"\n",
    "\n",
    "# Define regular expression to select part of the name as prefix for files saved in sheets\n",
    "match = re.search(r\"_(e_\\dQ\\d{4})\", filename)\n",
    "\n",
    "# Function to check if prefix was found\n",
    "def check_for_match():\n",
    "    if match:\n",
    "        result = match.group(1)\n",
    "        print(result)\n",
    "    else:\n",
    "        print(\"No match found\")\n",
    "\n",
    "# uncomment function for check\n",
    "# check_for_match()"
   ]
  },
  {
   "cell_type": "markdown",
   "metadata": {},
   "source": [
    "The result from the block above should show the desired file prefix.\n",
    "Use the following block to double check the file that should be processed with the prefix."
   ]
  },
  {
   "cell_type": "code",
   "execution_count": 59,
   "metadata": {},
   "outputs": [
    {
     "name": "stdout",
     "output_type": "stream",
     "text": [
      "downloads/financialsupplement_e_1Q2023.xlsx\n",
      "e_1Q2023_\n"
     ]
    }
   ],
   "source": [
    "# Set prefix for sheets from file\n",
    "prefix = f\"{match.group(1)}_\"\n",
    "\n",
    "# idetify file\n",
    "file = f\"{download_dir}/{filename}\"\n",
    "print(file)\n",
    "print(prefix)"
   ]
  },
  {
   "cell_type": "markdown",
   "metadata": {},
   "source": [
    "Run the following code to save each sheet from the workbook (file) into a seperate workbook containing only one sheet and named with the prefix."
   ]
  },
  {
   "cell_type": "code",
   "execution_count": 60,
   "metadata": {},
   "outputs": [
    {
     "name": "stdout",
     "output_type": "stream",
     "text": [
      "/Users/lukas/projects/reinsurance/reinsurers/hannoverre\n",
      "downloads/financialsupplement_e_1Q2023.xlsx\n"
     ]
    }
   ],
   "source": [
    "import os\n",
    "\n",
    "print(os.getcwd())\n",
    "print(file)"
   ]
  },
  {
   "cell_type": "code",
   "execution_count": 61,
   "metadata": {},
   "outputs": [
    {
     "name": "stdout",
     "output_type": "stream",
     "text": [
      "Saved Key Figures to sheets/e_1Q2023_Key Figures.xlsx\n",
      "Saved B-S to sheets/e_1Q2023_B-S.xlsx\n",
      "Saved P&L (ytd) to sheets/e_1Q2023_P&L (ytd).xlsx\n",
      "Saved P&L (q) to sheets/e_1Q2023_P&L (q).xlsx\n",
      "Saved B-S Segments to sheets/e_1Q2023_B-S Segments.xlsx\n",
      "Saved P&L Segments (ytd) to sheets/e_1Q2023_P&L Segments (ytd).xlsx\n",
      "Saved P&L Segments (q) to sheets/e_1Q2023_P&L Segments (q).xlsx\n",
      "All sheets have been saved as separate Excel files.\n"
     ]
    }
   ],
   "source": [
    "# Read the file\n",
    "xls = pd.ExcelFile(f\"downloads/{filename}\")\n",
    "\n",
    "# Loop through each sheet in the file\n",
    "for sheet_name in xls.sheet_names:\n",
    "    # Read the sheet into a pandas DataFrame\n",
    "    df = pd.read_excel(xls, sheet_name=sheet_name)\n",
    "    \n",
    "    # Create a new Excel writer object using XlsxWriter and the path for the current sheet\n",
    "    output_file_path = os.path.join(\"sheets/\", f'{prefix}{sheet_name}.xlsx')\n",
    "    with pd.ExcelWriter(output_file_path, engine='xlsxwriter') as writer:\n",
    "        # Write the DataFrame to the new Excel file\n",
    "        df.to_excel(writer, sheet_name=sheet_name, index=False)\n",
    "\n",
    "    print(f'Saved {sheet_name} to {output_file_path}')\n",
    "\n",
    "print('All sheets have been saved as separate Excel files.')"
   ]
  }
 ],
 "metadata": {
  "kernelspec": {
   "display_name": "venv",
   "language": "python",
   "name": "python3"
  },
  "language_info": {
   "codemirror_mode": {
    "name": "ipython",
    "version": 3
   },
   "file_extension": ".py",
   "mimetype": "text/x-python",
   "name": "python",
   "nbconvert_exporter": "python",
   "pygments_lexer": "ipython3",
   "version": "3.9.6"
  }
 },
 "nbformat": 4,
 "nbformat_minor": 2
}
